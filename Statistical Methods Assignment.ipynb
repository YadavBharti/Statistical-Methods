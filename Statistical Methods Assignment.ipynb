{
 "cells": [
  {
   "cell_type": "code",
   "execution_count": 9,
   "metadata": {},
   "outputs": [],
   "source": [
    "import pandas as pd\n",
    "import scipy.stats as stats"
   ]
  },
  {
   "cell_type": "markdown",
   "metadata": {},
   "source": [
    "1. A physician is evaluating a new diet for her patients with a family history of heart disease. To test the effectiveness of this diet, 16 patients are placed on the diet for 6 months. Their weights and triglyceride levels are measured before and after the study, and the physician wants to know if either set of measurements has changed. (Data set: dietstudy.csv) "
   ]
  },
  {
   "cell_type": "code",
   "execution_count": 13,
   "metadata": {},
   "outputs": [
    {
     "data": {
      "text/html": [
       "<div>\n",
       "<style scoped>\n",
       "    .dataframe tbody tr th:only-of-type {\n",
       "        vertical-align: middle;\n",
       "    }\n",
       "\n",
       "    .dataframe tbody tr th {\n",
       "        vertical-align: top;\n",
       "    }\n",
       "\n",
       "    .dataframe thead th {\n",
       "        text-align: right;\n",
       "    }\n",
       "</style>\n",
       "<table border=\"1\" class=\"dataframe\">\n",
       "  <thead>\n",
       "    <tr style=\"text-align: right;\">\n",
       "      <th></th>\n",
       "      <th>patid</th>\n",
       "      <th>age</th>\n",
       "      <th>gender</th>\n",
       "      <th>tg0</th>\n",
       "      <th>tg1</th>\n",
       "      <th>tg2</th>\n",
       "      <th>tg3</th>\n",
       "      <th>tg4</th>\n",
       "      <th>wgt0</th>\n",
       "      <th>wgt1</th>\n",
       "      <th>wgt2</th>\n",
       "      <th>wgt3</th>\n",
       "      <th>wgt4</th>\n",
       "    </tr>\n",
       "  </thead>\n",
       "  <tbody>\n",
       "    <tr>\n",
       "      <th>0</th>\n",
       "      <td>1</td>\n",
       "      <td>45</td>\n",
       "      <td>Male</td>\n",
       "      <td>180</td>\n",
       "      <td>148</td>\n",
       "      <td>106</td>\n",
       "      <td>113</td>\n",
       "      <td>100</td>\n",
       "      <td>198</td>\n",
       "      <td>196</td>\n",
       "      <td>193</td>\n",
       "      <td>188</td>\n",
       "      <td>192</td>\n",
       "    </tr>\n",
       "    <tr>\n",
       "      <th>1</th>\n",
       "      <td>2</td>\n",
       "      <td>56</td>\n",
       "      <td>Male</td>\n",
       "      <td>139</td>\n",
       "      <td>94</td>\n",
       "      <td>119</td>\n",
       "      <td>75</td>\n",
       "      <td>92</td>\n",
       "      <td>237</td>\n",
       "      <td>233</td>\n",
       "      <td>232</td>\n",
       "      <td>228</td>\n",
       "      <td>225</td>\n",
       "    </tr>\n",
       "    <tr>\n",
       "      <th>2</th>\n",
       "      <td>3</td>\n",
       "      <td>50</td>\n",
       "      <td>Male</td>\n",
       "      <td>152</td>\n",
       "      <td>185</td>\n",
       "      <td>86</td>\n",
       "      <td>149</td>\n",
       "      <td>118</td>\n",
       "      <td>233</td>\n",
       "      <td>231</td>\n",
       "      <td>229</td>\n",
       "      <td>228</td>\n",
       "      <td>226</td>\n",
       "    </tr>\n",
       "  </tbody>\n",
       "</table>\n",
       "</div>"
      ],
      "text/plain": [
       "   patid  age gender  tg0  tg1  tg2  tg3  tg4  wgt0  wgt1  wgt2  wgt3  wgt4\n",
       "0      1   45   Male  180  148  106  113  100   198   196   193   188   192\n",
       "1      2   56   Male  139   94  119   75   92   237   233   232   228   225\n",
       "2      3   50   Male  152  185   86  149  118   233   231   229   228   226"
      ]
     },
     "execution_count": 13,
     "metadata": {},
     "output_type": "execute_result"
    }
   ],
   "source": [
    "dietstudy=pd.read_csv(\"C:\\\\Users\\\\Priyanka Panday\\\\Downloads\\\\Bharti\\\\Class 7 & 8 files\\\\Stats - 2 [Effect Size]\\\\Basic Statistics Assignment\\\\dietstudy.csv\")\n",
    "dietstudy.head(3)"
   ]
  },
  {
   "cell_type": "code",
   "execution_count": 12,
   "metadata": {},
   "outputs": [
    {
     "data": {
      "text/plain": [
       "Ttest_relResult(statistic=1.708339375326079, pvalue=0.10817790329711016)"
      ]
     },
     "execution_count": 12,
     "metadata": {},
     "output_type": "execute_result"
    }
   ],
   "source": [
    "stats.ttest_rel(a=dietstudy.tg0,\n",
    "                b=dietstudy.tg1)"
   ]
  },
  {
   "cell_type": "code",
   "execution_count": 14,
   "metadata": {},
   "outputs": [
    {
     "data": {
      "text/plain": [
       "Ttest_relResult(statistic=3.69481872265182, pvalue=0.0021619105203089487)"
      ]
     },
     "execution_count": 14,
     "metadata": {},
     "output_type": "execute_result"
    }
   ],
   "source": [
    "stats.ttest_rel(a=dietstudy.wgt0,\n",
    "                b=dietstudy.wgt1)"
   ]
  },
  {
   "cell_type": "markdown",
   "metadata": {},
   "source": [
    "2. An analyst at a department store wants to evaluate a recent credit card promotion. To this end, 500 cardholders were randomly selected. Half received an ad promoting a reduced interest rate on purchases made over the next three months, and half received a standard seasonal ad. Is the promotion effective to increase sales? (Data set: creditpromo.csv) "
   ]
  },
  {
   "cell_type": "code",
   "execution_count": 33,
   "metadata": {},
   "outputs": [
    {
     "data": {
      "text/html": [
       "<div>\n",
       "<style scoped>\n",
       "    .dataframe tbody tr th:only-of-type {\n",
       "        vertical-align: middle;\n",
       "    }\n",
       "\n",
       "    .dataframe tbody tr th {\n",
       "        vertical-align: top;\n",
       "    }\n",
       "\n",
       "    .dataframe thead th {\n",
       "        text-align: right;\n",
       "    }\n",
       "</style>\n",
       "<table border=\"1\" class=\"dataframe\">\n",
       "  <thead>\n",
       "    <tr style=\"text-align: right;\">\n",
       "      <th></th>\n",
       "      <th>id</th>\n",
       "      <th>insert</th>\n",
       "      <th>dollars</th>\n",
       "    </tr>\n",
       "  </thead>\n",
       "  <tbody>\n",
       "    <tr>\n",
       "      <th>0</th>\n",
       "      <td>148</td>\n",
       "      <td>Standard</td>\n",
       "      <td>2232.771979</td>\n",
       "    </tr>\n",
       "    <tr>\n",
       "      <th>1</th>\n",
       "      <td>572</td>\n",
       "      <td>New Promotion</td>\n",
       "      <td>1403.807542</td>\n",
       "    </tr>\n",
       "    <tr>\n",
       "      <th>2</th>\n",
       "      <td>973</td>\n",
       "      <td>Standard</td>\n",
       "      <td>2327.092181</td>\n",
       "    </tr>\n",
       "  </tbody>\n",
       "</table>\n",
       "</div>"
      ],
      "text/plain": [
       "    id         insert      dollars\n",
       "0  148       Standard  2232.771979\n",
       "1  572  New Promotion  1403.807542\n",
       "2  973       Standard  2327.092181"
      ]
     },
     "execution_count": 33,
     "metadata": {},
     "output_type": "execute_result"
    }
   ],
   "source": [
    "creditpromo=pd.read_csv(\"C:\\\\Users\\\\Priyanka Panday\\\\Downloads\\\\Bharti\\\\Class 7 & 8 files\\\\Stats - 2 [Effect Size]\\\\Basic Statistics Assignment\\\\creditpromo.csv\")\n",
    "creditpromo.head(3)\n",
    "\n"
   ]
  },
  {
   "cell_type": "code",
   "execution_count": 42,
   "metadata": {},
   "outputs": [
    {
     "data": {
      "text/plain": [
       "Ttest_indResult(statistic=-2.260422726464996, pvalue=0.024226348191648994)"
      ]
     },
     "execution_count": 42,
     "metadata": {},
     "output_type": "execute_result"
    }
   ],
   "source": [
    "standard=creditpromo[creditpromo['insert']=='Standard']\n",
    "standard_1=standard['dollars']\n",
    "new_promotion=creditpromo[creditpromo['insert']=='New Promotion']\n",
    "new_promotion_1=new_promotion['dollars']\n",
    "stats.ttest_ind(a= standard_1,\n",
    "                b= new_promotion_1,\n",
    "                equal_var=False)"
   ]
  },
  {
   "cell_type": "markdown",
   "metadata": {},
   "source": [
    "3. An experiment is conducted to study the hybrid seed production of bottle gourd under open field conditions. The main aim of the investigation is to compare natural pollination and hand pollination. The data are collected on 10 randomly selected plants from each of natural pollination and hand pollination. The data are collected on fruit weight (kg), seed yield/plant (g) and seedling length (cm). (Data set: pollination.csv) a. Is the overall population of Seed yield/plant (g) equals to 200? b. Test whether the natural pollination and hand pollination under open field conditions are equally effective or are significantly different. \n",
    " "
   ]
  },
  {
   "cell_type": "code",
   "execution_count": 61,
   "metadata": {},
   "outputs": [
    {
     "data": {
      "text/html": [
       "<div>\n",
       "<style scoped>\n",
       "    .dataframe tbody tr th:only-of-type {\n",
       "        vertical-align: middle;\n",
       "    }\n",
       "\n",
       "    .dataframe tbody tr th {\n",
       "        vertical-align: top;\n",
       "    }\n",
       "\n",
       "    .dataframe thead th {\n",
       "        text-align: right;\n",
       "    }\n",
       "</style>\n",
       "<table border=\"1\" class=\"dataframe\">\n",
       "  <thead>\n",
       "    <tr style=\"text-align: right;\">\n",
       "      <th></th>\n",
       "      <th>Group</th>\n",
       "      <th>Fruit_Wt</th>\n",
       "      <th>Seed_Yield_Plant</th>\n",
       "      <th>Seedling_length</th>\n",
       "    </tr>\n",
       "  </thead>\n",
       "  <tbody>\n",
       "    <tr>\n",
       "      <th>0</th>\n",
       "      <td>Natural</td>\n",
       "      <td>1.85</td>\n",
       "      <td>147.70</td>\n",
       "      <td>16.86</td>\n",
       "    </tr>\n",
       "    <tr>\n",
       "      <th>1</th>\n",
       "      <td>Natural</td>\n",
       "      <td>1.86</td>\n",
       "      <td>136.86</td>\n",
       "      <td>16.77</td>\n",
       "    </tr>\n",
       "    <tr>\n",
       "      <th>2</th>\n",
       "      <td>Natural</td>\n",
       "      <td>1.83</td>\n",
       "      <td>149.97</td>\n",
       "      <td>16.35</td>\n",
       "    </tr>\n",
       "  </tbody>\n",
       "</table>\n",
       "</div>"
      ],
      "text/plain": [
       "     Group  Fruit_Wt  Seed_Yield_Plant  Seedling_length\n",
       "0  Natural      1.85            147.70            16.86\n",
       "1  Natural      1.86            136.86            16.77\n",
       "2  Natural      1.83            149.97            16.35"
      ]
     },
     "execution_count": 61,
     "metadata": {},
     "output_type": "execute_result"
    }
   ],
   "source": [
    "pollination=pd.read_csv(\"C:\\\\Users\\\\Priyanka Panday\\\\Downloads\\\\Bharti\\\\Class 7 & 8 files\\\\Stats - 2 [Effect Size]\\\\Basic Statistics Assignment\\\\pollination.csv\")\n",
    "\n",
    "\n",
    "stats.ttest_1samp(a= pollination.Seed_Yield_Plant,\n",
    "                 popmean= 200)\n",
    "pollination.head(3)"
   ]
  },
  {
   "cell_type": "code",
   "execution_count": 66,
   "metadata": {},
   "outputs": [
    {
     "data": {
      "text/plain": [
       "Ttest_indResult(statistic=-17.669989614440286, pvalue=4.306871213074868e-09)"
      ]
     },
     "execution_count": 66,
     "metadata": {},
     "output_type": "execute_result"
    }
   ],
   "source": [
    "natural=pollination.Fruit_Wt[pollination.Group=='Natural']\n",
    "hand=pollination.Fruit_Wt[pollination.Group=='Hand']\n",
    "stats.ttest_ind(a= natural,\n",
    "                b= hand,\n",
    "                equal_var=False)"
   ]
  },
  {
   "cell_type": "code",
   "execution_count": 67,
   "metadata": {},
   "outputs": [
    {
     "data": {
      "text/plain": [
       "Ttest_indResult(statistic=-13.958260515902547, pvalue=5.136161282685624e-11)"
      ]
     },
     "execution_count": 67,
     "metadata": {},
     "output_type": "execute_result"
    }
   ],
   "source": [
    "natural=pollination.Seed_Yield_Plant[pollination.Group=='Natural']\n",
    "hand=pollination.Seed_Yield_Plant[pollination.Group=='Hand']\n",
    "stats.ttest_ind(a= natural,\n",
    "                b= hand,\n",
    "                equal_var=False)"
   ]
  },
  {
   "cell_type": "code",
   "execution_count": 68,
   "metadata": {},
   "outputs": [
    {
     "data": {
      "text/plain": [
       "Ttest_indResult(statistic=-2.542229999657055, pvalue=0.021430608378161634)"
      ]
     },
     "execution_count": 68,
     "metadata": {},
     "output_type": "execute_result"
    }
   ],
   "source": [
    "natural=pollination.Seedling_length[pollination.Group=='Natural']\n",
    "hand=pollination.Seedling_length[pollination.Group=='Hand']\n",
    "stats.ttest_ind(a= natural,\n",
    "                b= hand,\n",
    "                equal_var=False)"
   ]
  },
  {
   "cell_type": "markdown",
   "metadata": {},
   "source": [
    "4. An electronics firm is developing a new DVD player in response to customer requests. Using a prototype, the marketing team has collected focus data for different age groups viz. Under 25; 25-34; 35-44; 45-54; 55-64; 65 and above. Do you think that consumers of various ages rated the design differently? (Data set: dvdplayer.csv). "
   ]
  },
  {
   "cell_type": "code",
   "execution_count": 70,
   "metadata": {},
   "outputs": [
    {
     "data": {
      "text/html": [
       "<div>\n",
       "<style scoped>\n",
       "    .dataframe tbody tr th:only-of-type {\n",
       "        vertical-align: middle;\n",
       "    }\n",
       "\n",
       "    .dataframe tbody tr th {\n",
       "        vertical-align: top;\n",
       "    }\n",
       "\n",
       "    .dataframe thead th {\n",
       "        text-align: right;\n",
       "    }\n",
       "</style>\n",
       "<table border=\"1\" class=\"dataframe\">\n",
       "  <thead>\n",
       "    <tr style=\"text-align: right;\">\n",
       "      <th></th>\n",
       "      <th>agegroup</th>\n",
       "      <th>dvdscore</th>\n",
       "    </tr>\n",
       "  </thead>\n",
       "  <tbody>\n",
       "    <tr>\n",
       "      <th>0</th>\n",
       "      <td>65 and over</td>\n",
       "      <td>38.454803</td>\n",
       "    </tr>\n",
       "    <tr>\n",
       "      <th>1</th>\n",
       "      <td>55-64</td>\n",
       "      <td>17.669677</td>\n",
       "    </tr>\n",
       "    <tr>\n",
       "      <th>2</th>\n",
       "      <td>65 and over</td>\n",
       "      <td>31.704307</td>\n",
       "    </tr>\n",
       "  </tbody>\n",
       "</table>\n",
       "</div>"
      ],
      "text/plain": [
       "      agegroup   dvdscore\n",
       "0  65 and over  38.454803\n",
       "1        55-64  17.669677\n",
       "2  65 and over  31.704307"
      ]
     },
     "execution_count": 70,
     "metadata": {},
     "output_type": "execute_result"
    }
   ],
   "source": [
    "dvdplayer=pd.read_csv(\"C:\\\\Users\\\\Priyanka Panday\\\\Downloads\\\\Bharti\\\\Class 7 & 8 files\\\\Stats - 2 [Effect Size]\\\\Basic Statistics Assignment\\\\dvdplayer.csv\")\n",
    "dvdplayer.head(3)\n",
    "\n"
   ]
  },
  {
   "cell_type": "code",
   "execution_count": 83,
   "metadata": {},
   "outputs": [
    {
     "data": {
      "text/plain": [
       "F_onewayResult(statistic=nan, pvalue=nan)"
      ]
     },
     "execution_count": 83,
     "metadata": {},
     "output_type": "execute_result"
    }
   ],
   "source": [
    "s1 = dvdplayer.dvdscore[dvdplayer.agegroup=='Under 25']\n",
    "s2 = dvdplayer.dvdscore[dvdplayer.agegroup=='25-34']\n",
    "s3 = dvdplayer.dvdscore[dvdplayer.agegroup=='35-44']\n",
    "s4 = dvdplayer.dvdscore[dvdplayer.agegroup=='45-54']\n",
    "s5 = dvdplayer.dvdscore[dvdplayer.agegroup=='55-64']\n",
    "s6 = dvdplayer.dvdscore[dvdplayer.agegroup=='65 and above']\n",
    "\n",
    "\n",
    "stats.f_oneway(s1, s2, s3, s4, s5, s6)\n",
    "\n"
   ]
  },
  {
   "cell_type": "markdown",
   "metadata": {},
   "source": [
    "5. A survey was conducted among 2800 customers on several demographic characteristics. Working status, sex, age, age-group, race, happiness, no. of child, marital status, educational qualifications, income group etc. had been captured for that purpose. (Data set: sample_survey.csv).  \n",
    "a. Is there any relationship in between labour force status with marital status? b. Do you think educational qualification is somehow controlling the marital status?  c. Is happiness is driven by earnings or marital status? "
   ]
  },
  {
   "cell_type": "code",
   "execution_count": 98,
   "metadata": {},
   "outputs": [
    {
     "data": {
      "text/plain": [
       "Index([u'id', u'wrkstat', u'marital', u'childs', u'age', u'educ', u'paeduc',\n",
       "       u'maeduc', u'speduc', u'degree', u'sex', u'race', u'born', u'parborn',\n",
       "       u'granborn', u'income', u'rincome', u'polviews', u'cappun', u'postlife',\n",
       "       u'happy', u'hapmar', u'owngun', u'news', u'tvhours', u'howpaid',\n",
       "       u'ethnic', u'eth1', u'eth2', u'eth3', u'confinan', u'conbus',\n",
       "       u'coneduc', u'conpress', u'conmedic', u'contv', u'agecat', u'childcat',\n",
       "       u'news1', u'news2', u'news3', u'news4', u'news5', u'car1', u'car2',\n",
       "       u'car3'],\n",
       "      dtype='object')"
      ]
     },
     "execution_count": 98,
     "metadata": {},
     "output_type": "execute_result"
    }
   ],
   "source": [
    "sample_survey=pd.read_csv(\"C:\\\\Users\\\\Priyanka Panday\\\\Downloads\\\\Bharti\\\\Class 7 & 8 files\\\\Stats - 2 [Effect Size]\\\\Basic Statistics Assignment\\\\sample_survey.csv\")\n",
    "sample_survey.columns"
   ]
  },
  {
   "cell_type": "code",
   "execution_count": 94,
   "metadata": {},
   "outputs": [
    {
     "data": {
      "text/html": [
       "<div>\n",
       "<style scoped>\n",
       "    .dataframe tbody tr th:only-of-type {\n",
       "        vertical-align: middle;\n",
       "    }\n",
       "\n",
       "    .dataframe tbody tr th {\n",
       "        vertical-align: top;\n",
       "    }\n",
       "\n",
       "    .dataframe thead th {\n",
       "        text-align: right;\n",
       "    }\n",
       "</style>\n",
       "<table border=\"1\" class=\"dataframe\">\n",
       "  <thead>\n",
       "    <tr style=\"text-align: right;\">\n",
       "      <th>marital</th>\n",
       "      <th>Divorced</th>\n",
       "      <th>Married</th>\n",
       "      <th>Never married</th>\n",
       "      <th>Separated</th>\n",
       "      <th>Widowed</th>\n",
       "      <th>All</th>\n",
       "    </tr>\n",
       "    <tr>\n",
       "      <th>race</th>\n",
       "      <th></th>\n",
       "      <th></th>\n",
       "      <th></th>\n",
       "      <th></th>\n",
       "      <th></th>\n",
       "      <th></th>\n",
       "    </tr>\n",
       "  </thead>\n",
       "  <tbody>\n",
       "    <tr>\n",
       "      <th>Black</th>\n",
       "      <td>73</td>\n",
       "      <td>122</td>\n",
       "      <td>133</td>\n",
       "      <td>27</td>\n",
       "      <td>44</td>\n",
       "      <td>399</td>\n",
       "    </tr>\n",
       "    <tr>\n",
       "      <th>Other</th>\n",
       "      <td>30</td>\n",
       "      <td>73</td>\n",
       "      <td>74</td>\n",
       "      <td>5</td>\n",
       "      <td>9</td>\n",
       "      <td>191</td>\n",
       "    </tr>\n",
       "    <tr>\n",
       "      <th>White</th>\n",
       "      <td>343</td>\n",
       "      <td>1151</td>\n",
       "      <td>456</td>\n",
       "      <td>61</td>\n",
       "      <td>230</td>\n",
       "      <td>2241</td>\n",
       "    </tr>\n",
       "    <tr>\n",
       "      <th>All</th>\n",
       "      <td>446</td>\n",
       "      <td>1346</td>\n",
       "      <td>663</td>\n",
       "      <td>93</td>\n",
       "      <td>283</td>\n",
       "      <td>2831</td>\n",
       "    </tr>\n",
       "  </tbody>\n",
       "</table>\n",
       "</div>"
      ],
      "text/plain": [
       "marital  Divorced  Married  Never married  Separated  Widowed   All\n",
       "race                                                               \n",
       "Black          73      122            133         27       44   399\n",
       "Other          30       73             74          5        9   191\n",
       "White         343     1151            456         61      230  2241\n",
       "All           446     1346            663         93      283  2831"
      ]
     },
     "execution_count": 94,
     "metadata": {},
     "output_type": "execute_result"
    }
   ],
   "source": [
    "t=pd.crosstab(sample_survey.race, sample_survey.marital, margins = True)\n",
    "t"
   ]
  },
  {
   "cell_type": "code",
   "execution_count": 95,
   "metadata": {},
   "outputs": [
    {
     "data": {
      "text/plain": [
       "(104.4322720476971,\n",
       " 1.8744211487839212e-15,\n",
       " 15L,\n",
       " array([[  62.8590604 ,  189.70469799,   93.44295302,   13.10738255,\n",
       "           39.88590604,  399.        ],\n",
       "        [  30.09042741,   90.81102084,   44.73083716,    6.27446132,\n",
       "           19.09325327,  191.        ],\n",
       "        [ 353.05051219, 1065.48428117,  524.82620982,   73.61815613,\n",
       "          224.02084069, 2241.        ],\n",
       "        [ 446.        , 1346.        ,  663.        ,   93.        ,\n",
       "          283.        , 2831.        ]]))"
      ]
     },
     "execution_count": 95,
     "metadata": {},
     "output_type": "execute_result"
    }
   ],
   "source": [
    "stats.chi2_contingency(observed= t)"
   ]
  },
  {
   "cell_type": "code",
   "execution_count": 103,
   "metadata": {},
   "outputs": [
    {
     "data": {
      "text/html": [
       "<div>\n",
       "<style scoped>\n",
       "    .dataframe tbody tr th:only-of-type {\n",
       "        vertical-align: middle;\n",
       "    }\n",
       "\n",
       "    .dataframe tbody tr th {\n",
       "        vertical-align: top;\n",
       "    }\n",
       "\n",
       "    .dataframe thead th {\n",
       "        text-align: right;\n",
       "    }\n",
       "</style>\n",
       "<table border=\"1\" class=\"dataframe\">\n",
       "  <thead>\n",
       "    <tr style=\"text-align: right;\">\n",
       "      <th>marital</th>\n",
       "      <th>Divorced</th>\n",
       "      <th>Married</th>\n",
       "      <th>Never married</th>\n",
       "      <th>Separated</th>\n",
       "      <th>Widowed</th>\n",
       "      <th>All</th>\n",
       "    </tr>\n",
       "    <tr>\n",
       "      <th>degree</th>\n",
       "      <th></th>\n",
       "      <th></th>\n",
       "      <th></th>\n",
       "      <th></th>\n",
       "      <th></th>\n",
       "      <th></th>\n",
       "    </tr>\n",
       "  </thead>\n",
       "  <tbody>\n",
       "    <tr>\n",
       "      <th>Bachelor</th>\n",
       "      <td>58</td>\n",
       "      <td>251</td>\n",
       "      <td>129</td>\n",
       "      <td>12</td>\n",
       "      <td>28</td>\n",
       "      <td>478</td>\n",
       "    </tr>\n",
       "    <tr>\n",
       "      <th>Graduate</th>\n",
       "      <td>29</td>\n",
       "      <td>123</td>\n",
       "      <td>41</td>\n",
       "      <td>3</td>\n",
       "      <td>9</td>\n",
       "      <td>205</td>\n",
       "    </tr>\n",
       "    <tr>\n",
       "      <th>High school</th>\n",
       "      <td>241</td>\n",
       "      <td>686</td>\n",
       "      <td>367</td>\n",
       "      <td>58</td>\n",
       "      <td>148</td>\n",
       "      <td>1500</td>\n",
       "    </tr>\n",
       "    <tr>\n",
       "      <th>Junior college</th>\n",
       "      <td>45</td>\n",
       "      <td>108</td>\n",
       "      <td>46</td>\n",
       "      <td>3</td>\n",
       "      <td>6</td>\n",
       "      <td>208</td>\n",
       "    </tr>\n",
       "    <tr>\n",
       "      <th>LT High school</th>\n",
       "      <td>70</td>\n",
       "      <td>174</td>\n",
       "      <td>77</td>\n",
       "      <td>17</td>\n",
       "      <td>92</td>\n",
       "      <td>430</td>\n",
       "    </tr>\n",
       "    <tr>\n",
       "      <th>All</th>\n",
       "      <td>443</td>\n",
       "      <td>1342</td>\n",
       "      <td>660</td>\n",
       "      <td>93</td>\n",
       "      <td>283</td>\n",
       "      <td>2821</td>\n",
       "    </tr>\n",
       "  </tbody>\n",
       "</table>\n",
       "</div>"
      ],
      "text/plain": [
       "marital         Divorced  Married  Never married  Separated  Widowed   All\n",
       "degree                                                                    \n",
       "Bachelor              58      251            129         12       28   478\n",
       "Graduate              29      123             41          3        9   205\n",
       "High school          241      686            367         58      148  1500\n",
       "Junior college        45      108             46          3        6   208\n",
       "LT High school        70      174             77         17       92   430\n",
       "All                  443     1342            660         93      283  2821"
      ]
     },
     "execution_count": 103,
     "metadata": {},
     "output_type": "execute_result"
    }
   ],
   "source": [
    "t1=pd.crosstab(sample_survey.degree, sample_survey.marital, margins = True)\n",
    "t1"
   ]
  },
  {
   "cell_type": "code",
   "execution_count": 104,
   "metadata": {},
   "outputs": [
    {
     "data": {
      "text/plain": [
       "(221.10896441647756,\n",
       " 3.86334244881229e-11,\n",
       " 100L,\n",
       " array([[3.15005321e-01, 9.49982263e-01, 4.68251153e-01, 6.59808443e-02,\n",
       "         2.00780419e-01, 2.00000000e+00],\n",
       "        [7.87513303e-01, 2.37495566e+00, 1.17062788e+00, 1.64952111e-01,\n",
       "         5.01951046e-01, 5.00000000e+00],\n",
       "        [1.57502661e+00, 4.74991132e+00, 2.34125576e+00, 3.29904221e-01,\n",
       "         1.00390209e+00, 1.00000000e+01],\n",
       "        [1.41752394e+00, 4.27492018e+00, 2.10713019e+00, 2.96913799e-01,\n",
       "         9.03511884e-01, 9.00000000e+00],\n",
       "        [1.26002128e+00, 3.79992905e+00, 1.87300461e+00, 2.63923377e-01,\n",
       "         8.03121674e-01, 8.00000000e+00],\n",
       "        [3.62256119e+00, 1.09247960e+01, 5.38488826e+00, 7.58779709e-01,\n",
       "         2.30897481e+00, 2.30000000e+01],\n",
       "        [3.30755587e+00, 9.97481376e+00, 4.91663711e+00, 6.92798865e-01,\n",
       "         2.10819440e+00, 2.10000000e+01],\n",
       "        [1.29152182e+01, 3.89492728e+01, 1.91982973e+01, 2.70521462e+00,\n",
       "         8.23199716e+00, 8.20000000e+01],\n",
       "        [1.18126995e+01, 3.56243349e+01, 1.75594182e+01, 2.47428166e+00,\n",
       "         7.52926570e+00, 7.50000000e+01],\n",
       "        [1.77978006e+01, 5.36739979e+01, 2.64561901e+01, 3.72791770e+00,\n",
       "         1.13440937e+01, 1.13000000e+02],\n",
       "        [2.17353672e+01, 6.55487762e+01, 3.23093295e+01, 4.55267825e+00,\n",
       "         1.38538489e+01, 1.38000000e+02],\n",
       "        [1.34034764e+02, 4.04217453e+02, 1.99240866e+02, 2.80748492e+01,\n",
       "         8.54320681e+01, 8.51000000e+02],\n",
       "        [4.25257183e+01, 1.28247606e+02, 6.32139056e+01, 8.90741398e+00,\n",
       "         2.71053565e+01, 2.70000000e+02],\n",
       "        [5.49684285e+01, 1.65771905e+02, 8.17098262e+01, 1.15136573e+01,\n",
       "         3.50361830e+01, 3.49000000e+02],\n",
       "        [2.29953884e+01, 6.93487052e+01, 3.41823342e+01, 4.81660163e+00,\n",
       "         1.46569706e+01, 1.46000000e+02],\n",
       "        [6.48910961e+01, 1.95696346e+02, 9.64597375e+01, 1.35920539e+01,\n",
       "         4.13607662e+01, 4.12000000e+02],\n",
       "        [1.35452288e+01, 4.08492373e+01, 2.01347996e+01, 2.83717630e+00,\n",
       "         8.63355800e+00, 8.60000000e+01],\n",
       "        [1.71677900e+01, 5.17740333e+01, 2.55196878e+01, 3.59595601e+00,\n",
       "         1.09425328e+01, 1.09000000e+02],\n",
       "        [6.45760908e+00, 1.94746364e+01, 9.59914863e+00, 1.35260731e+00,\n",
       "         4.11599858e+00, 4.10000000e+01],\n",
       "        [1.08676836e+01, 3.27743881e+01, 1.61546648e+01, 2.27633913e+00,\n",
       "         6.92692444e+00, 6.90000000e+01],\n",
       "        [4.44000000e+02, 1.33900000e+03, 6.60000000e+02, 9.30000000e+01,\n",
       "         2.83000000e+02, 2.81900000e+03]]))"
      ]
     },
     "execution_count": 104,
     "metadata": {},
     "output_type": "execute_result"
    }
   ],
   "source": [
    "stats.chi2_contingency(observed= t)"
   ]
  },
  {
   "cell_type": "code",
   "execution_count": 107,
   "metadata": {},
   "outputs": [
    {
     "data": {
      "text/plain": [
       "(178.95053061216427,\n",
       " 7.234749067043371e-21,\n",
       " 36L,\n",
       " array([[   3.89520355,   23.12777106,   21.66706973,   29.82265216,\n",
       "          191.35187424,    2.92140266,    3.89520355,    4.26037888,\n",
       "            4.01692866,    5.72108021,    7.06005643,    4.26037888,\n",
       "          302.        ],\n",
       "        [  18.16041919,  107.82748892,  101.01733172,  139.04070939,\n",
       "          892.1305925 ,   13.62031439,   18.16041919,   19.86295848,\n",
       "           18.72793229,   26.67311568,   32.91575977,   19.86295848,\n",
       "         1408.        ],\n",
       "        [   9.94437727,   59.04474002,   55.31559855,   76.13663845,\n",
       "          488.51753325,    7.45828295,    9.94437727,   10.87666264,\n",
       "           10.25513906,   14.60580411,   18.0241838 ,   10.87666264,\n",
       "          771.        ],\n",
       "        [  32.        ,  190.        ,  178.        ,  245.        ,\n",
       "         1572.        ,   24.        ,   32.        ,   35.        ,\n",
       "           33.        ,   47.        ,   58.        ,   35.        ,\n",
       "         2481.        ]]))"
      ]
     },
     "execution_count": 107,
     "metadata": {},
     "output_type": "execute_result"
    }
   ],
   "source": [
    "t2=pd.crosstab(sample_survey.happy, sample_survey.marital, margins = True)\n",
    "t3=pd.crosstab(sample_survey.happy, sample_survey.income, margins = True)\n",
    "\n",
    "stats.chi2_contingency(observed= t2)\n",
    "stats.chi2_contingency(observed= t3)"
   ]
  }
 ],
 "metadata": {
  "kernelspec": {
   "display_name": "Python 2",
   "language": "python",
   "name": "python2"
  },
  "language_info": {
   "codemirror_mode": {
    "name": "ipython",
    "version": 2
   },
   "file_extension": ".py",
   "mimetype": "text/x-python",
   "name": "python",
   "nbconvert_exporter": "python",
   "pygments_lexer": "ipython2",
   "version": "2.7.15"
  }
 },
 "nbformat": 4,
 "nbformat_minor": 2
}
